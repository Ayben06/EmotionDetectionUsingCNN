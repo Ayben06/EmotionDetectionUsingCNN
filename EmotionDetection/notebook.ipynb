{
 "cells": [
  {
   "cell_type": "markdown",
   "metadata": {
    "id": "SEY7hhgWbP8C"
   },
   "source": [
    "# Setup\n",
    "Import TensorFlow and other necessary libraries:"
   ]
  },
  {
   "cell_type": "code",
   "execution_count": 5,
   "metadata": {
    "executionInfo": {
     "elapsed": 1187,
     "status": "ok",
     "timestamp": 1670614979828,
     "user": {
      "displayName": "Aybeniz Mammadova",
      "userId": "15306238090825421799"
     },
     "user_tz": -240
    },
    "id": "poiy7m_2aXsP"
   },
   "outputs": [],
   "source": [
    "import numpy as np\n",
    "import matplotlib.pyplot as plt\n",
    "import cv2\n",
    "import tensorflow as tf\n",
    "from keras.models import Sequential\n",
    "from keras.layers import Dense, Dropout, Flatten\n",
    "from keras.layers import Conv2D\n",
    "from keras.optimizers import Adam\n",
    "from keras.layers import MaxPooling2D\n",
    "from keras.preprocessing.image import ImageDataGenerator"
   ]
  },
  {
   "cell_type": "markdown",
   "metadata": {
    "id": "Emefyu-pcTvT"
   },
   "source": [
    "## Standardize the data"
   ]
  },
  {
   "cell_type": "code",
   "execution_count": 6,
   "metadata": {
    "executionInfo": {
     "elapsed": 33,
     "status": "ok",
     "timestamp": 1670615919617,
     "user": {
      "displayName": "Aybeniz Mammadova",
      "userId": "15306238090825421799"
     },
     "user_tz": -240
    },
    "id": "l-khUZm4aPxP"
   },
   "outputs": [],
   "source": [
    "train = ImageDataGenerator(rescale=1./255)\n",
    "val = ImageDataGenerator(rescale=1./255)"
   ]
  },
  {
   "cell_type": "markdown",
   "metadata": {
    "id": "tQm_83RKcJdS"
   },
   "source": [
    "## Create a dataset"
   ]
  },
  {
   "cell_type": "code",
   "execution_count": 8,
   "metadata": {
    "colab": {
     "base_uri": "https://localhost:8080/"
    },
    "executionInfo": {
     "elapsed": 1447,
     "status": "ok",
     "timestamp": 1670614992013,
     "user": {
      "displayName": "Aybeniz Mammadova",
      "userId": "15306238090825421799"
     },
     "user_tz": -240
    },
    "id": "LOyE4eUy8GSC",
    "outputId": "5194bd0b-0ba1-46fd-fba4-8f6c3938c42c"
   },
   "outputs": [
    {
     "name": "stdout",
     "output_type": "stream",
     "text": [
      "Found 28709 images belonging to 7 classes.\n",
      "Found 7178 images belonging to 7 classes.\n"
     ]
    }
   ],
   "source": [
    "train_dir = 'data/train'\n",
    "val_dir = 'data/test'\n",
    "train_ds = train.flow_from_directory(\n",
    "        train_dir,\n",
    "        target_size=(48,48),\n",
    "        batch_size=64,\n",
    "        color_mode=\"grayscale\",\n",
    "        class_mode='categorical')\n",
    "\n",
    "val_ds= val.flow_from_directory(\n",
    "        val_dir,\n",
    "        target_size=(48,48),\n",
    "        batch_size=64,\n",
    "        color_mode=\"grayscale\",\n",
    "        class_mode='categorical')"
   ]
  },
  {
   "cell_type": "markdown",
   "metadata": {
    "id": "PAg8TC9HcwCs"
   },
   "source": [
    "## Create the convolutional base"
   ]
  },
  {
   "cell_type": "code",
   "execution_count": 9,
   "metadata": {
    "executionInfo": {
     "elapsed": 8,
     "status": "ok",
     "timestamp": 1670614997046,
     "user": {
      "displayName": "Aybeniz Mammadova",
      "userId": "15306238090825421799"
     },
     "user_tz": -240
    },
    "id": "5FJ3dHqi8GVM"
   },
   "outputs": [],
   "source": [
    "emotion_model = Sequential()\n",
    "emotion_model.add(Conv2D(32, kernel_size=(3, 3), activation='relu', input_shape=(48,48,1)))\n",
    "emotion_model.add(Conv2D(64, kernel_size=(3, 3), activation='relu'))\n",
    "emotion_model.add(MaxPooling2D(pool_size=(2, 2)))\n",
    "emotion_model.add(Dropout(0.25))\n",
    "emotion_model.add(Conv2D(128, kernel_size=(3, 3), activation='relu'))\n",
    "emotion_model.add(MaxPooling2D(pool_size=(2, 2)))\n",
    "emotion_model.add(Conv2D(128, kernel_size=(3, 3), activation='relu'))\n",
    "emotion_model.add(MaxPooling2D(pool_size=(2, 2)))\n",
    "emotion_model.add(Dropout(0.25))\n",
    "emotion_model.add(Flatten())\n",
    "emotion_model.add(Dense(1024, activation='relu'))\n",
    "emotion_model.add(Dropout(0.5))\n",
    "emotion_model.add(Dense(7, activation='softmax'))"
   ]
  },
  {
   "cell_type": "markdown",
   "metadata": {
    "id": "6AH492oDc6kZ"
   },
   "source": [
    "## Compile and train the mode"
   ]
  },
  {
   "cell_type": "code",
   "execution_count": 10,
   "metadata": {
    "executionInfo": {
     "elapsed": 1453,
     "status": "ok",
     "timestamp": 1670615025450,
     "user": {
      "displayName": "Aybeniz Mammadova",
      "userId": "15306238090825421799"
     },
     "user_tz": -240
    },
    "id": "MDDaAkOOajQA"
   },
   "outputs": [],
   "source": [
    "emotion_model.compile(loss='categorical_crossentropy',optimizer=Adam(learning_rate=0.0001, decay=1e-6),metrics=['accuracy'])"
   ]
  },
  {
   "cell_type": "code",
   "execution_count": 12,
   "metadata": {
    "colab": {
     "base_uri": "https://localhost:8080/"
    },
    "executionInfo": {
     "elapsed": 891311,
     "status": "ok",
     "timestamp": 1670615919615,
     "user": {
      "displayName": "Aybeniz Mammadova",
      "userId": "15306238090825421799"
     },
     "user_tz": -240
    },
    "id": "6oH3-sXl8GXC",
    "outputId": "a6ea03fe-b392-48a3-cf5f-3ee585b45b05"
   },
   "outputs": [
    {
     "name": "stdout",
     "output_type": "stream",
     "text": [
      "Epoch 1/10\n",
      "448/448 [==============================] - 233s 521ms/step - loss: 1.7095 - accuracy: 0.3197 - val_loss: 1.6084 - val_accuracy: 0.3934\n",
      "Epoch 2/10\n",
      "448/448 [==============================] - 169s 378ms/step - loss: 1.5732 - accuracy: 0.3959 - val_loss: 1.5121 - val_accuracy: 0.4309\n",
      "Epoch 3/10\n",
      "448/448 [==============================] - 191s 426ms/step - loss: 1.4899 - accuracy: 0.4289 - val_loss: 1.4406 - val_accuracy: 0.4535\n",
      "Epoch 4/10\n",
      "448/448 [==============================] - 174s 387ms/step - loss: 1.4228 - accuracy: 0.4565 - val_loss: 1.3647 - val_accuracy: 0.4845\n",
      "Epoch 5/10\n",
      "448/448 [==============================] - 177s 394ms/step - loss: 1.3645 - accuracy: 0.4823 - val_loss: 1.3281 - val_accuracy: 0.4967\n",
      "Epoch 6/10\n",
      "448/448 [==============================] - 159s 355ms/step - loss: 1.3177 - accuracy: 0.5002 - val_loss: 1.2963 - val_accuracy: 0.5025\n",
      "Epoch 7/10\n",
      "448/448 [==============================] - 169s 377ms/step - loss: 1.2736 - accuracy: 0.5200 - val_loss: 1.2785 - val_accuracy: 0.5043\n",
      "Epoch 8/10\n",
      "448/448 [==============================] - 166s 371ms/step - loss: 1.2374 - accuracy: 0.5349 - val_loss: 1.2252 - val_accuracy: 0.5326\n",
      "Epoch 9/10\n",
      "448/448 [==============================] - 166s 370ms/step - loss: 1.2025 - accuracy: 0.5441 - val_loss: 1.2031 - val_accuracy: 0.5416\n",
      "Epoch 10/10\n",
      "448/448 [==============================] - 164s 366ms/step - loss: 1.1754 - accuracy: 0.5596 - val_loss: 1.1857 - val_accuracy: 0.5481\n"
     ]
    }
   ],
   "source": [
    "emotion_model_info = emotion_model.fit(\n",
    "        train_ds,\n",
    "        steps_per_epoch=28709 // 64,\n",
    "        epochs=10,\n",
    "        validation_data=val_ds,\n",
    "        validation_steps=7178 // 64)"
   ]
  },
  {
   "cell_type": "markdown",
   "metadata": {
    "id": "YBw9GX25dGRK"
   },
   "source": [
    "## Visualize training results\n",
    "Create plots of the loss and accuracy on the training and validation sets:"
   ]
  },
  {
   "cell_type": "code",
   "execution_count": 14,
   "metadata": {
    "colab": {
     "base_uri": "https://localhost:8080/",
     "height": 499
    },
    "executionInfo": {
     "elapsed": 67,
     "status": "ok",
     "timestamp": 1670612769291,
     "user": {
      "displayName": "Aybeniz Mammadova",
      "userId": "15306238090825421799"
     },
     "user_tz": -240
    },
    "id": "dd5iTOYWGuF2",
    "outputId": "50cc5af8-6c61-4f90-aba7-20c5cfd55b1c"
   },
   "outputs": [
    {
     "data": {
      "image/png": "[encoded data removed]",
      "text/plain": [
       "<Figure size 576x576 with 2 Axes>"
      ]
     },
     "metadata": {
      "needs_background": "light"
     },
     "output_type": "display_data"
    }
   ],
   "source": [
    "acc = emotion_model_info.history['accuracy']\n",
    "val_acc = emotion_model_info.history['val_accuracy']\n",
    "\n",
    "loss = emotion_model_info.history['loss']\n",
    "val_loss = emotion_model_info.history['val_loss']\n",
    "\n",
    "epochs_range = range(10)\n",
    "\n",
    "plt.figure(figsize=(8, 8))\n",
    "plt.subplot(1, 2, 1)\n",
    "plt.plot(epochs_range, acc, label='Training Accuracy')\n",
    "plt.plot(epochs_range, val_acc, label='Validation Accuracy')\n",
    "plt.legend(loc='lower right')\n",
    "plt.title('Training and Validation Accuracy')\n",
    "\n",
    "plt.subplot(1, 2, 2)\n",
    "plt.plot(epochs_range, loss, label='Training Loss')\n",
    "plt.plot(epochs_range, val_loss, label='Validation Loss')\n",
    "plt.legend(loc='upper right')\n",
    "plt.title('Training and Validation Loss')\n",
    "plt.show()"
   ]
  },
  {
   "cell_type": "markdown",
   "metadata": {
    "id": "Y9RNb2CxdK5J"
   },
   "source": []
  },
  {
   "cell_type": "code",
   "execution_count": 16,
   "metadata": {
    "executionInfo": {
     "elapsed": 604,
     "status": "ok",
     "timestamp": 1670612800084,
     "user": {
      "displayName": "Aybeniz Mammadova",
      "userId": "15306238090825421799"
     },
     "user_tz": -240
    },
    "id": "eAzPXtkm8GZ3"
   },
   "outputs": [],
   "source": [
    "def emotion_analysis(emotions):\n",
    "    objects = ('angry', 'disgust', 'fear', 'happy', 'sad', 'surprise', 'neutral')\n",
    "    y_pos = np.arange(len(objects))\n",
    "    \n",
    "    plt.bar(y_pos, emotions, align='center', alpha=0.5)\n",
    "    plt.xticks(y_pos, objects)\n",
    "    plt.ylabel('percentage')\n",
    "    plt.title('emotion')\n",
    "    \n",
    "    plt.show()"
   ]
  },
  {
   "cell_type": "markdown",
   "metadata": {
    "id": "-5acFR0ldUJW"
   },
   "source": [
    "## Predict on new data"
   ]
  },
  {
   "cell_type": "code",
   "execution_count": 17,
   "metadata": {
    "executionInfo": {
     "elapsed": 1956,
     "status": "ok",
     "timestamp": 1670612839998,
     "user": {
      "displayName": "Aybeniz Mammadova",
      "userId": "15306238090825421799"
     },
     "user_tz": -240
    },
    "id": "u8_b7oMbMCSD"
   },
   "outputs": [],
   "source": [
    "from tensorflow.keras.utils import load_img , img_to_array\n",
    "import numpy as np\n",
    "import matplotlib.pyplot as plt"
   ]
  },
  {
   "cell_type": "code",
   "execution_count": 29,
   "metadata": {
    "colab": {
     "base_uri": "https://localhost:8080/",
     "height": 566
    },
    "executionInfo": {
     "elapsed": 1152,
     "status": "ok",
     "timestamp": 1670614875069,
     "user": {
      "displayName": "Aybeniz Mammadova",
      "userId": "15306238090825421799"
     },
     "user_tz": -240
    },
    "id": "LdYiZiQh8Gll",
    "outputId": "98df1b10-8441-4e3e-aeb3-8749b8961165"
   },
   "outputs": [
    {
     "name": "stdout",
     "output_type": "stream",
     "text": [
      "1/1 [==============================] - 0s 24ms/step\n"
     ]
    },
    {
     "data": {
      "image/png": "[encoded data removed]",
      "text/plain": [
       "<Figure size 432x288 with 1 Axes>"
      ]
     },
     "metadata": {
      "needs_background": "light"
     },
     "output_type": "display_data"
    },
    {
     "data": {
      "image/png": "[encoded data removed]",
      "text/plain": [
       "<Figure size 432x288 with 1 Axes>"
      ]
     },
     "metadata": {
      "needs_background": "light"
     },
     "output_type": "display_data"
    },
    {
     "name": "stdout",
     "output_type": "stream",
     "text": [
      "20.13 percent confidence.\n"
     ]
    }
   ],
   "source": [
    "\n",
    "file = 'data/test/angry/im106.png'\n",
    "img=load_img(file,color_mode=\"grayscale\", target_size=(48, 48))\n",
    "\n",
    "x = img_to_array(img)\n",
    "x = np.expand_dims(x, axis = 0)\n",
    "\n",
    "x /= 255\n",
    "\n",
    "custom = emotion_model.predict(x)\n",
    "emotion_analysis(custom[0])\n",
    "\n",
    "x = np.array(x, 'float32')\n",
    "x = x.reshape([48, 48]);\n",
    "\n",
    "plt.imshow(img)\n",
    "plt.show()\n",
    "print(\n",
    "    \"{:.2f} percent confidence.\"\n",
    "    .format( 100 * np.max(tf.nn.softmax(custom[0])))\n",
    ")"
   ]
  },
  {
   "cell_type": "code",
   "execution_count": 32,
   "metadata": {
    "colab": {
     "base_uri": "https://localhost:8080/",
     "height": 566
    },
    "executionInfo": {
     "elapsed": 587,
     "status": "ok",
     "timestamp": 1670614810965,
     "user": {
      "displayName": "Aybeniz Mammadova",
      "userId": "15306238090825421799"
     },
     "user_tz": -240
    },
    "id": "TsNrybfZ8Gqa",
    "outputId": "3725a70d-9a30-4178-ca1b-3fd8568d2727"
   },
   "outputs": [
    {
     "name": "stdout",
     "output_type": "stream",
     "text": [
      "1/1 [==============================] - 0s 26ms/step\n"
     ]
    },
    {
     "data": {
      "image/png": "[encoded data removed]",
      "text/plain": [
       "<Figure size 432x288 with 1 Axes>"
      ]
     },
     "metadata": {
      "needs_background": "light"
     },
     "output_type": "display_data"
    },
    {
     "data": {
      "image/png": "[encoded data removed]",
      "text/plain": [
       "<Figure size 432x288 with 1 Axes>"
      ]
     },
     "metadata": {
      "needs_background": "light"
     },
     "output_type": "display_data"
    },
    {
     "name": "stdout",
     "output_type": "stream",
     "text": [
      "31.02 percent confidence.\n"
     ]
    }
   ],
   "source": [
    "\n",
    "file = 'data/test/happy/im100.png'\n",
    "img=load_img(file,color_mode=\"grayscale\", target_size=(48, 48))\n",
    "\n",
    "x = img_to_array(img)\n",
    "x = np.expand_dims(x, axis = 0)\n",
    "\n",
    "x /= 255\n",
    "\n",
    "custom = emotion_model.predict(x)\n",
    "emotion_analysis(custom[0])\n",
    "\n",
    "x = np.array(x, 'float32')\n",
    "x = x.reshape([48, 48]);\n",
    "\n",
    "plt.imshow(img)\n",
    "plt.show()\n",
    "print(\n",
    "    \"{:.2f} percent confidence.\"\n",
    "    .format( 100 * np.max(tf.nn.softmax(custom[0])))\n",
    ")"
   ]
  }
 ],
 "metadata": {
  "accelerator": "GPU",
  "colab": {
   "authorship_tag": "ABX9TyO7ycoza1LM/JusAyHPNlU6",
   "provenance": []
  },
  "gpuClass": "standard",
  "kernelspec": {
   "display_name": "Python 3 (ipykernel)",
   "language": "python",
   "name": "python3"
  },
  "language_info": {
   "codemirror_mode": {
    "name": "ipython",
    "version": 3
   },
   "file_extension": ".py",
   "mimetype": "text/x-python",
   "name": "python",
   "nbconvert_exporter": "python",
   "pygments_lexer": "ipython3",
   "version": "3.9.12"
  }
 },
 "nbformat": 4,
 "nbformat_minor": 1
}
